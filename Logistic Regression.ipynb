{
 "cells": [
  {
   "cell_type": "code",
   "execution_count": 1,
   "id": "726f4b45",
   "metadata": {},
   "outputs": [],
   "source": [
    "import numpy as np \n",
    "import pandas as pd \n",
    "import matplotlib.pyplot as plt \n",
    "import seaborn as sns \n",
    "from matplotlib import gridspec \n",
    "\n",
    "from sklearn.model_selection import train_test_split\n",
    "from sklearn.linear_model import LogisticRegression\n",
    "from sklearn.ensemble import RandomForestClassifier\n",
    "from sklearn.tree import DecisionTreeClassifier\n",
    "from sklearn import tree\n",
    "from sklearn.ensemble import VotingClassifier\n",
    "from sklearn.model_selection import GridSearchCV\n",
    "from sklearn.metrics import accuracy_score, classification_report, confusion_matrix, precision_score, roc_auc_score\n"
   ]
  },
  {
   "cell_type": "code",
   "execution_count": 2,
   "id": "b4761c50",
   "metadata": {},
   "outputs": [],
   "source": [
    "data = pd.read_csv('creditcard.csv')"
   ]
  },
  {
   "cell_type": "code",
   "execution_count": 3,
   "id": "f7c791fd",
   "metadata": {},
   "outputs": [],
   "source": [
    "# Distributing Class as normal or fraudulent\n",
    "Valid = data[data['Class']==0]\n",
    "Fraudulent = data[data['Class']==1]"
   ]
  },
  {
   "cell_type": "code",
   "execution_count": 4,
   "id": "8f35c577",
   "metadata": {},
   "outputs": [
    {
     "name": "stdout",
     "output_type": "stream",
     "text": [
      "details of Valid transaction\n"
     ]
    },
    {
     "data": {
      "text/plain": [
       "count    284315.000000\n",
       "mean         88.291022\n",
       "std         250.105092\n",
       "min           0.000000\n",
       "25%           5.650000\n",
       "50%          22.000000\n",
       "75%          77.050000\n",
       "max       25691.160000\n",
       "Name: Amount, dtype: float64"
      ]
     },
     "execution_count": 4,
     "metadata": {},
     "output_type": "execute_result"
    }
   ],
   "source": [
    "print('details of Valid transaction') \n",
    "Valid.Amount.describe() "
   ]
  },
  {
   "cell_type": "code",
   "execution_count": 5,
   "id": "7c255830",
   "metadata": {},
   "outputs": [
    {
     "name": "stdout",
     "output_type": "stream",
     "text": [
      "details of Fraudulent transaction\n"
     ]
    },
    {
     "data": {
      "text/plain": [
       "count     492.000000\n",
       "mean      122.211321\n",
       "std       256.683288\n",
       "min         0.000000\n",
       "25%         1.000000\n",
       "50%         9.250000\n",
       "75%       105.890000\n",
       "max      2125.870000\n",
       "Name: Amount, dtype: float64"
      ]
     },
     "execution_count": 5,
     "metadata": {},
     "output_type": "execute_result"
    }
   ],
   "source": [
    "print('details of Fraudulent transaction') \n",
    "Fraudulent.Amount.describe() "
   ]
  },
  {
   "cell_type": "raw",
   "id": "f9559390",
   "metadata": {},
   "source": [
    "Average of Fraudulent Transactions is more"
   ]
  },
  {
   "cell_type": "code",
   "execution_count": 6,
   "id": "604872cf",
   "metadata": {},
   "outputs": [
    {
     "data": {
      "text/plain": [
       "Text(0.5, 1.0, 'Class Distributions')"
      ]
     },
     "execution_count": 6,
     "metadata": {},
     "output_type": "execute_result"
    },
    {
     "data": {
      "image/png": "[encoded data removed]",
      "text/plain": [
       "<Figure size 640x480 with 1 Axes>"
      ]
     },
     "metadata": {},
     "output_type": "display_data"
    }
   ],
   "source": [
    "# unbalanced ditribution of class with help of graph \n",
    "sns.countplot(x='Class', data=data)\n",
    "plt.title('Class Distributions')"
   ]
  },
  {
   "cell_type": "raw",
   "id": "c5909a76",
   "metadata": {},
   "source": [
    "Distributions: Observing these distributions gives us insight into the skewness of these features. Additionally, exploring further distributions of other features becomes possible. There are methods available to mitigate this skewness in the distributions, and these will be integrated into this notebook in the upcoming phases."
   ]
  },
  {
   "cell_type": "code",
   "execution_count": 7,
   "id": "2f151b85",
   "metadata": {},
   "outputs": [],
   "source": [
    "data = data.sample(frac=1, random_state=42)  # Random state for reproducibility\n",
    "\n",
    "# Selecting rows for fraud and non-fraud classes\n",
    "fraud_df = data[data['Class'] == 1]\n",
    "valid_df = data[data['Class'] == 0].sample(n=len(fraud_df), random_state=42)"
   ]
  },
  {
   "cell_type": "code",
   "execution_count": 8,
   "id": "9dcdb0fa",
   "metadata": {},
   "outputs": [],
   "source": [
    "equal_df = pd.concat([fraud_df, valid_df])"
   ]
  },
  {
   "cell_type": "code",
   "execution_count": 9,
   "id": "9ad0c58b",
   "metadata": {},
   "outputs": [
    {
     "data": {
      "text/html": [
       "<div>\n",
       "<style scoped>\n",
       "    .dataframe tbody tr th:only-of-type {\n",
       "        vertical-align: middle;\n",
       "    }\n",
       "\n",
       "    .dataframe tbody tr th {\n",
       "        vertical-align: top;\n",
       "    }\n",
       "\n",
       "    .dataframe thead th {\n",
       "        text-align: right;\n",
       "    }\n",
       "</style>\n",
       "<table border=\"1\" class=\"dataframe\">\n",
       "  <thead>\n",
       "    <tr style=\"text-align: right;\">\n",
       "      <th></th>\n",
       "      <th>Time</th>\n",
       "      <th>V1</th>\n",
       "      <th>V2</th>\n",
       "      <th>V3</th>\n",
       "      <th>V4</th>\n",
       "      <th>V5</th>\n",
       "      <th>V6</th>\n",
       "      <th>V7</th>\n",
       "      <th>V8</th>\n",
       "      <th>V9</th>\n",
       "      <th>...</th>\n",
       "      <th>V21</th>\n",
       "      <th>V22</th>\n",
       "      <th>V23</th>\n",
       "      <th>V24</th>\n",
       "      <th>V25</th>\n",
       "      <th>V26</th>\n",
       "      <th>V27</th>\n",
       "      <th>V28</th>\n",
       "      <th>Amount</th>\n",
       "      <th>Class</th>\n",
       "    </tr>\n",
       "  </thead>\n",
       "  <tbody>\n",
       "    <tr>\n",
       "      <th>280412</th>\n",
       "      <td>169518.0</td>\n",
       "      <td>-0.300026</td>\n",
       "      <td>0.949818</td>\n",
       "      <td>0.074290</td>\n",
       "      <td>0.933936</td>\n",
       "      <td>0.996314</td>\n",
       "      <td>-0.734827</td>\n",
       "      <td>1.065931</td>\n",
       "      <td>-0.046607</td>\n",
       "      <td>-0.682219</td>\n",
       "      <td>...</td>\n",
       "      <td>0.166577</td>\n",
       "      <td>0.660828</td>\n",
       "      <td>-0.253749</td>\n",
       "      <td>-0.004951</td>\n",
       "      <td>-0.059794</td>\n",
       "      <td>-0.392513</td>\n",
       "      <td>0.422035</td>\n",
       "      <td>0.234143</td>\n",
       "      <td>2.00</td>\n",
       "      <td>0</td>\n",
       "    </tr>\n",
       "    <tr>\n",
       "      <th>95597</th>\n",
       "      <td>65385.0</td>\n",
       "      <td>-2.923827</td>\n",
       "      <td>1.524837</td>\n",
       "      <td>-3.018758</td>\n",
       "      <td>3.289291</td>\n",
       "      <td>-5.755542</td>\n",
       "      <td>2.218276</td>\n",
       "      <td>-0.509995</td>\n",
       "      <td>-3.569444</td>\n",
       "      <td>-1.016592</td>\n",
       "      <td>...</td>\n",
       "      <td>-0.511657</td>\n",
       "      <td>-0.122724</td>\n",
       "      <td>-4.288639</td>\n",
       "      <td>0.563797</td>\n",
       "      <td>-0.949451</td>\n",
       "      <td>-0.204532</td>\n",
       "      <td>1.510206</td>\n",
       "      <td>-0.324706</td>\n",
       "      <td>1354.25</td>\n",
       "      <td>1</td>\n",
       "    </tr>\n",
       "    <tr>\n",
       "      <th>72197</th>\n",
       "      <td>54608.0</td>\n",
       "      <td>0.786116</td>\n",
       "      <td>-1.067510</td>\n",
       "      <td>0.917200</td>\n",
       "      <td>0.885069</td>\n",
       "      <td>-0.987685</td>\n",
       "      <td>0.989969</td>\n",
       "      <td>-0.692766</td>\n",
       "      <td>0.296164</td>\n",
       "      <td>1.200257</td>\n",
       "      <td>...</td>\n",
       "      <td>0.141353</td>\n",
       "      <td>0.412901</td>\n",
       "      <td>-0.432923</td>\n",
       "      <td>-0.366233</td>\n",
       "      <td>0.546041</td>\n",
       "      <td>0.702749</td>\n",
       "      <td>-0.008153</td>\n",
       "      <td>0.037743</td>\n",
       "      <td>207.10</td>\n",
       "      <td>0</td>\n",
       "    </tr>\n",
       "    <tr>\n",
       "      <th>75511</th>\n",
       "      <td>56098.0</td>\n",
       "      <td>-1.229669</td>\n",
       "      <td>1.956099</td>\n",
       "      <td>-0.851198</td>\n",
       "      <td>2.796987</td>\n",
       "      <td>-1.913977</td>\n",
       "      <td>-0.044934</td>\n",
       "      <td>-1.340739</td>\n",
       "      <td>-0.555548</td>\n",
       "      <td>-1.184468</td>\n",
       "      <td>...</td>\n",
       "      <td>1.208054</td>\n",
       "      <td>0.277612</td>\n",
       "      <td>0.019266</td>\n",
       "      <td>0.508529</td>\n",
       "      <td>-0.201183</td>\n",
       "      <td>-0.249600</td>\n",
       "      <td>0.562239</td>\n",
       "      <td>0.075309</td>\n",
       "      <td>170.92</td>\n",
       "      <td>1</td>\n",
       "    </tr>\n",
       "    <tr>\n",
       "      <th>255556</th>\n",
       "      <td>157284.0</td>\n",
       "      <td>-0.242245</td>\n",
       "      <td>4.147186</td>\n",
       "      <td>-5.672349</td>\n",
       "      <td>6.493741</td>\n",
       "      <td>1.591168</td>\n",
       "      <td>-1.602523</td>\n",
       "      <td>-0.950463</td>\n",
       "      <td>0.722903</td>\n",
       "      <td>-4.128505</td>\n",
       "      <td>...</td>\n",
       "      <td>0.249023</td>\n",
       "      <td>-0.480286</td>\n",
       "      <td>-0.286080</td>\n",
       "      <td>-1.153575</td>\n",
       "      <td>-0.035571</td>\n",
       "      <td>0.559628</td>\n",
       "      <td>0.409446</td>\n",
       "      <td>0.221048</td>\n",
       "      <td>0.77</td>\n",
       "      <td>1</td>\n",
       "    </tr>\n",
       "  </tbody>\n",
       "</table>\n",
       "<p>5 rows × 31 columns</p>\n",
       "</div>"
      ],
      "text/plain": [
       "            Time        V1        V2        V3        V4        V5        V6  \\\n",
       "280412  169518.0 -0.300026  0.949818  0.074290  0.933936  0.996314 -0.734827   \n",
       "95597    65385.0 -2.923827  1.524837 -3.018758  3.289291 -5.755542  2.218276   \n",
       "72197    54608.0  0.786116 -1.067510  0.917200  0.885069 -0.987685  0.989969   \n",
       "75511    56098.0 -1.229669  1.956099 -0.851198  2.796987 -1.913977 -0.044934   \n",
       "255556  157284.0 -0.242245  4.147186 -5.672349  6.493741  1.591168 -1.602523   \n",
       "\n",
       "              V7        V8        V9  ...       V21       V22       V23  \\\n",
       "280412  1.065931 -0.046607 -0.682219  ...  0.166577  0.660828 -0.253749   \n",
       "95597  -0.509995 -3.569444 -1.016592  ... -0.511657 -0.122724 -4.288639   \n",
       "72197  -0.692766  0.296164  1.200257  ...  0.141353  0.412901 -0.432923   \n",
       "75511  -1.340739 -0.555548 -1.184468  ...  1.208054  0.277612  0.019266   \n",
       "255556 -0.950463  0.722903 -4.128505  ...  0.249023 -0.480286 -0.286080   \n",
       "\n",
       "             V24       V25       V26       V27       V28   Amount  Class  \n",
       "280412 -0.004951 -0.059794 -0.392513  0.422035  0.234143     2.00      0  \n",
       "95597   0.563797 -0.949451 -0.204532  1.510206 -0.324706  1354.25      1  \n",
       "72197  -0.366233  0.546041  0.702749 -0.008153  0.037743   207.10      0  \n",
       "75511   0.508529 -0.201183 -0.249600  0.562239  0.075309   170.92      1  \n",
       "255556 -1.153575 -0.035571  0.559628  0.409446  0.221048     0.77      1  \n",
       "\n",
       "[5 rows x 31 columns]"
      ]
     },
     "execution_count": 9,
     "metadata": {},
     "output_type": "execute_result"
    }
   ],
   "source": [
    "# Shuffle dataframe rows\n",
    "credit_df = equal_df.sample(frac=1, random_state=42)\n",
    "\n",
    "credit_df.head()"
   ]
  },
  {
   "cell_type": "code",
   "execution_count": 10,
   "id": "95ea2729",
   "metadata": {},
   "outputs": [
    {
     "name": "stdout",
     "output_type": "stream",
     "text": [
      "Count of sample\n",
      "0    492\n",
      "1    492\n",
      "Name: Class, dtype: int64\n"
     ]
    }
   ],
   "source": [
    "print('Count of sample')\n",
    "print(credit_df['Class'].value_counts())"
   ]
  },
  {
   "cell_type": "code",
   "execution_count": 12,
   "id": "b497da01",
   "metadata": {},
   "outputs": [
    {
     "data": {
      "image/png": "[encoded data removed]",
      "text/plain": [
       "<Figure size 600x600 with 2 Axes>"
      ]
     },
     "metadata": {},
     "output_type": "display_data"
    }
   ],
   "source": [
    "# Visualize correlation matrix as a heatmap\n",
    "corr_matrix = data.corr()\n",
    "plt.figure(figsize=(6, 6))\n",
    "sns.heatmap(corr_matrix, cmap= \"YlGnBu\", square=True)\n",
    "plt.show()"
   ]
  },
  {
   "cell_type": "code",
   "execution_count": 15,
   "id": "98608326",
   "metadata": {},
   "outputs": [
    {
     "name": "stdout",
     "output_type": "stream",
     "text": [
      "(984, 30)\n",
      "(984,)\n"
     ]
    }
   ],
   "source": [
    "x=credit_df.drop(columns='Class',axis=1)\n",
    "y=credit_df['Class']\n",
    "print(x.shape) \n",
    "print(y.shape)"
   ]
  },
  {
   "cell_type": "markdown",
   "id": "0217750a",
   "metadata": {},
   "source": [
    "# Split the dataset"
   ]
  },
  {
   "cell_type": "code",
   "execution_count": 16,
   "id": "87f8bc0f",
   "metadata": {},
   "outputs": [],
   "source": [
    "x_train,x_test,y_train,y_test = train_test_split(x,y,test_size=0.2,random_state=2)"
   ]
  },
  {
   "cell_type": "code",
   "execution_count": 17,
   "id": "acef7bef",
   "metadata": {},
   "outputs": [
    {
     "name": "stdout",
     "output_type": "stream",
     "text": [
      "(984, 30) (787, 30) (197, 30)\n"
     ]
    }
   ],
   "source": [
    "print(x.shape,x_train.shape,x_test.shape)"
   ]
  },
  {
   "cell_type": "code",
   "execution_count": 18,
   "id": "ca2a2e63",
   "metadata": {},
   "outputs": [],
   "source": [
    "# Create Logistic Regression model\n",
    "model1 = LogisticRegression(solver= 'liblinear', random_state=0, max_iter=1000)"
   ]
  },
  {
   "cell_type": "code",
   "execution_count": 19,
   "id": "fd080282",
   "metadata": {},
   "outputs": [],
   "source": [
    "# Define hyperparameter grids for each model  \n",
    "model1_params = {\n",
    "    'C': [0.01, 0.1, 1, 10, 100],\n",
    "    'solver': ['liblinear', 'lbfgs']\n",
    "}   "
   ]
  },
  {
   "cell_type": "code",
   "execution_count": 20,
   "id": "5c2b3a4f",
   "metadata": {},
   "outputs": [],
   "source": [
    "# Perform hyperparameter tuning using GridSearchCV for each model\n",
    "\n",
    "model1_random = GridSearchCV(estimator=model1, param_grid=model1_params, cv=5)"
   ]
  },
  {
   "cell_type": "code",
   "execution_count": 21,
   "id": "88863210",
   "metadata": {},
   "outputs": [
    {
     "data": {
      "text/html": [
       "<style>#sk-container-id-1 {color: black;}#sk-container-id-1 pre{padding: 0;}#sk-container-id-1 div.sk-toggleable {background-color: white;}#sk-container-id-1 label.sk-toggleable__label {cursor: pointer;display: block;width: 100%;margin-bottom: 0;padding: 0.3em;box-sizing: border-box;text-align: center;}#sk-container-id-1 label.sk-toggleable__label-arrow:before {content: \"▸\";float: left;margin-right: 0.25em;color: #696969;}#sk-container-id-1 label.sk-toggleable__label-arrow:hover:before {color: black;}#sk-container-id-1 div.sk-estimator:hover label.sk-toggleable__label-arrow:before {color: black;}#sk-container-id-1 div.sk-toggleable__content {max-height: 0;max-width: 0;overflow: hidden;text-align: left;background-color: #f0f8ff;}#sk-container-id-1 div.sk-toggleable__content pre {margin: 0.2em;color: black;border-radius: 0.25em;background-color: #f0f8ff;}#sk-container-id-1 input.sk-toggleable__control:checked~div.sk-toggleable__content {max-height: 200px;max-width: 100%;overflow: auto;}#sk-container-id-1 input.sk-toggleable__control:checked~label.sk-toggleable__label-arrow:before {content: \"▾\";}#sk-container-id-1 div.sk-estimator input.sk-toggleable__control:checked~label.sk-toggleable__label {background-color: #d4ebff;}#sk-container-id-1 div.sk-label input.sk-toggleable__control:checked~label.sk-toggleable__label {background-color: #d4ebff;}#sk-container-id-1 input.sk-hidden--visually {border: 0;clip: rect(1px 1px 1px 1px);clip: rect(1px, 1px, 1px, 1px);height: 1px;margin: -1px;overflow: hidden;padding: 0;position: absolute;width: 1px;}#sk-container-id-1 div.sk-estimator {font-family: monospace;background-color: #f0f8ff;border: 1px dotted black;border-radius: 0.25em;box-sizing: border-box;margin-bottom: 0.5em;}#sk-container-id-1 div.sk-estimator:hover {background-color: #d4ebff;}#sk-container-id-1 div.sk-parallel-item::after {content: \"\";width: 100%;border-bottom: 1px solid gray;flex-grow: 1;}#sk-container-id-1 div.sk-label:hover label.sk-toggleable__label {background-color: #d4ebff;}#sk-container-id-1 div.sk-serial::before {content: \"\";position: absolute;border-left: 1px solid gray;box-sizing: border-box;top: 0;bottom: 0;left: 50%;z-index: 0;}#sk-container-id-1 div.sk-serial {display: flex;flex-direction: column;align-items: center;background-color: white;padding-right: 0.2em;padding-left: 0.2em;position: relative;}#sk-container-id-1 div.sk-item {position: relative;z-index: 1;}#sk-container-id-1 div.sk-parallel {display: flex;align-items: stretch;justify-content: center;background-color: white;position: relative;}#sk-container-id-1 div.sk-item::before, #sk-container-id-1 div.sk-parallel-item::before {content: \"\";position: absolute;border-left: 1px solid gray;box-sizing: border-box;top: 0;bottom: 0;left: 50%;z-index: -1;}#sk-container-id-1 div.sk-parallel-item {display: flex;flex-direction: column;z-index: 1;position: relative;background-color: white;}#sk-container-id-1 div.sk-parallel-item:first-child::after {align-self: flex-end;width: 50%;}#sk-container-id-1 div.sk-parallel-item:last-child::after {align-self: flex-start;width: 50%;}#sk-container-id-1 div.sk-parallel-item:only-child::after {width: 0;}#sk-container-id-1 div.sk-dashed-wrapped {border: 1px dashed gray;margin: 0 0.4em 0.5em 0.4em;box-sizing: border-box;padding-bottom: 0.4em;background-color: white;}#sk-container-id-1 div.sk-label label {font-family: monospace;font-weight: bold;display: inline-block;line-height: 1.2em;}#sk-container-id-1 div.sk-label-container {text-align: center;}#sk-container-id-1 div.sk-container {/* jupyter's `normalize.less` sets `[hidden] { display: none; }` but bootstrap.min.css set `[hidden] { display: none !important; }` so we also need the `!important` here to be able to override the default hidden behavior on the sphinx rendered scikit-learn.org. See: https://github.com/scikit-learn/scikit-learn/issues/21755 */display: inline-block !important;position: relative;}#sk-container-id-1 div.sk-text-repr-fallback {display: none;}</style><div id=\"sk-container-id-1\" class=\"sk-top-container\"><div class=\"sk-text-repr-fallback\"><pre>GridSearchCV(cv=5,\n",
       "             estimator=LogisticRegression(max_iter=1000, random_state=0,\n",
       "                                          solver=&#x27;liblinear&#x27;),\n",
       "             param_grid={&#x27;C&#x27;: [0.01, 0.1, 1, 10, 100],\n",
       "                         &#x27;solver&#x27;: [&#x27;liblinear&#x27;, &#x27;lbfgs&#x27;]})</pre><b>In a Jupyter environment, please rerun this cell to show the HTML representation or trust the notebook. <br />On GitHub, the HTML representation is unable to render, please try loading this page with nbviewer.org.</b></div><div class=\"sk-container\" hidden><div class=\"sk-item sk-dashed-wrapped\"><div class=\"sk-label-container\"><div class=\"sk-label sk-toggleable\"><input class=\"sk-toggleable__control sk-hidden--visually\" id=\"sk-estimator-id-1\" type=\"checkbox\" ><label for=\"sk-estimator-id-1\" class=\"sk-toggleable__label sk-toggleable__label-arrow\">GridSearchCV</label><div class=\"sk-toggleable__content\"><pre>GridSearchCV(cv=5,\n",
       "             estimator=LogisticRegression(max_iter=1000, random_state=0,\n",
       "                                          solver=&#x27;liblinear&#x27;),\n",
       "             param_grid={&#x27;C&#x27;: [0.01, 0.1, 1, 10, 100],\n",
       "                         &#x27;solver&#x27;: [&#x27;liblinear&#x27;, &#x27;lbfgs&#x27;]})</pre></div></div></div><div class=\"sk-parallel\"><div class=\"sk-parallel-item\"><div class=\"sk-item\"><div class=\"sk-label-container\"><div class=\"sk-label sk-toggleable\"><input class=\"sk-toggleable__control sk-hidden--visually\" id=\"sk-estimator-id-2\" type=\"checkbox\" ><label for=\"sk-estimator-id-2\" class=\"sk-toggleable__label sk-toggleable__label-arrow\">estimator: LogisticRegression</label><div class=\"sk-toggleable__content\"><pre>LogisticRegression(max_iter=1000, random_state=0, solver=&#x27;liblinear&#x27;)</pre></div></div></div><div class=\"sk-serial\"><div class=\"sk-item\"><div class=\"sk-estimator sk-toggleable\"><input class=\"sk-toggleable__control sk-hidden--visually\" id=\"sk-estimator-id-3\" type=\"checkbox\" ><label for=\"sk-estimator-id-3\" class=\"sk-toggleable__label sk-toggleable__label-arrow\">LogisticRegression</label><div class=\"sk-toggleable__content\"><pre>LogisticRegression(max_iter=1000, random_state=0, solver=&#x27;liblinear&#x27;)</pre></div></div></div></div></div></div></div></div></div></div>"
      ],
      "text/plain": [
       "GridSearchCV(cv=5,\n",
       "             estimator=LogisticRegression(max_iter=1000, random_state=0,\n",
       "                                          solver='liblinear'),\n",
       "             param_grid={'C': [0.01, 0.1, 1, 10, 100],\n",
       "                         'solver': ['liblinear', 'lbfgs']})"
      ]
     },
     "execution_count": 21,
     "metadata": {},
     "output_type": "execute_result"
    }
   ],
   "source": [
    "# Fit GridSearchCV objects\n",
    "model1_random.fit(x_train, y_train)"
   ]
  },
  {
   "cell_type": "code",
   "execution_count": 23,
   "id": "9800f6ea",
   "metadata": {},
   "outputs": [],
   "source": [
    "# Get best hyperparameters for each model\n",
    "best_lr_params = model1_random.best_params_"
   ]
  },
  {
   "cell_type": "code",
   "execution_count": 24,
   "id": "ec578b35",
   "metadata": {},
   "outputs": [],
   "source": [
    "best_lr_model = LogisticRegression(**best_lr_params, max_iter=1000, random_state=42)"
   ]
  },
  {
   "cell_type": "code",
   "execution_count": 25,
   "id": "1b6a5552",
   "metadata": {},
   "outputs": [
    {
     "data": {
      "text/html": [
       "<style>#sk-container-id-2 {color: black;}#sk-container-id-2 pre{padding: 0;}#sk-container-id-2 div.sk-toggleable {background-color: white;}#sk-container-id-2 label.sk-toggleable__label {cursor: pointer;display: block;width: 100%;margin-bottom: 0;padding: 0.3em;box-sizing: border-box;text-align: center;}#sk-container-id-2 label.sk-toggleable__label-arrow:before {content: \"▸\";float: left;margin-right: 0.25em;color: #696969;}#sk-container-id-2 label.sk-toggleable__label-arrow:hover:before {color: black;}#sk-container-id-2 div.sk-estimator:hover label.sk-toggleable__label-arrow:before {color: black;}#sk-container-id-2 div.sk-toggleable__content {max-height: 0;max-width: 0;overflow: hidden;text-align: left;background-color: #f0f8ff;}#sk-container-id-2 div.sk-toggleable__content pre {margin: 0.2em;color: black;border-radius: 0.25em;background-color: #f0f8ff;}#sk-container-id-2 input.sk-toggleable__control:checked~div.sk-toggleable__content {max-height: 200px;max-width: 100%;overflow: auto;}#sk-container-id-2 input.sk-toggleable__control:checked~label.sk-toggleable__label-arrow:before {content: \"▾\";}#sk-container-id-2 div.sk-estimator input.sk-toggleable__control:checked~label.sk-toggleable__label {background-color: #d4ebff;}#sk-container-id-2 div.sk-label input.sk-toggleable__control:checked~label.sk-toggleable__label {background-color: #d4ebff;}#sk-container-id-2 input.sk-hidden--visually {border: 0;clip: rect(1px 1px 1px 1px);clip: rect(1px, 1px, 1px, 1px);height: 1px;margin: -1px;overflow: hidden;padding: 0;position: absolute;width: 1px;}#sk-container-id-2 div.sk-estimator {font-family: monospace;background-color: #f0f8ff;border: 1px dotted black;border-radius: 0.25em;box-sizing: border-box;margin-bottom: 0.5em;}#sk-container-id-2 div.sk-estimator:hover {background-color: #d4ebff;}#sk-container-id-2 div.sk-parallel-item::after {content: \"\";width: 100%;border-bottom: 1px solid gray;flex-grow: 1;}#sk-container-id-2 div.sk-label:hover label.sk-toggleable__label {background-color: #d4ebff;}#sk-container-id-2 div.sk-serial::before {content: \"\";position: absolute;border-left: 1px solid gray;box-sizing: border-box;top: 0;bottom: 0;left: 50%;z-index: 0;}#sk-container-id-2 div.sk-serial {display: flex;flex-direction: column;align-items: center;background-color: white;padding-right: 0.2em;padding-left: 0.2em;position: relative;}#sk-container-id-2 div.sk-item {position: relative;z-index: 1;}#sk-container-id-2 div.sk-parallel {display: flex;align-items: stretch;justify-content: center;background-color: white;position: relative;}#sk-container-id-2 div.sk-item::before, #sk-container-id-2 div.sk-parallel-item::before {content: \"\";position: absolute;border-left: 1px solid gray;box-sizing: border-box;top: 0;bottom: 0;left: 50%;z-index: -1;}#sk-container-id-2 div.sk-parallel-item {display: flex;flex-direction: column;z-index: 1;position: relative;background-color: white;}#sk-container-id-2 div.sk-parallel-item:first-child::after {align-self: flex-end;width: 50%;}#sk-container-id-2 div.sk-parallel-item:last-child::after {align-self: flex-start;width: 50%;}#sk-container-id-2 div.sk-parallel-item:only-child::after {width: 0;}#sk-container-id-2 div.sk-dashed-wrapped {border: 1px dashed gray;margin: 0 0.4em 0.5em 0.4em;box-sizing: border-box;padding-bottom: 0.4em;background-color: white;}#sk-container-id-2 div.sk-label label {font-family: monospace;font-weight: bold;display: inline-block;line-height: 1.2em;}#sk-container-id-2 div.sk-label-container {text-align: center;}#sk-container-id-2 div.sk-container {/* jupyter's `normalize.less` sets `[hidden] { display: none; }` but bootstrap.min.css set `[hidden] { display: none !important; }` so we also need the `!important` here to be able to override the default hidden behavior on the sphinx rendered scikit-learn.org. See: https://github.com/scikit-learn/scikit-learn/issues/21755 */display: inline-block !important;position: relative;}#sk-container-id-2 div.sk-text-repr-fallback {display: none;}</style><div id=\"sk-container-id-2\" class=\"sk-top-container\"><div class=\"sk-text-repr-fallback\"><pre>VotingClassifier(estimators=[(&#x27;logistic_regression&#x27;,\n",
       "                              LogisticRegression(C=1, max_iter=1000,\n",
       "                                                 random_state=42,\n",
       "                                                 solver=&#x27;liblinear&#x27;))],\n",
       "                 voting=&#x27;soft&#x27;)</pre><b>In a Jupyter environment, please rerun this cell to show the HTML representation or trust the notebook. <br />On GitHub, the HTML representation is unable to render, please try loading this page with nbviewer.org.</b></div><div class=\"sk-container\" hidden><div class=\"sk-item sk-dashed-wrapped\"><div class=\"sk-label-container\"><div class=\"sk-label sk-toggleable\"><input class=\"sk-toggleable__control sk-hidden--visually\" id=\"sk-estimator-id-4\" type=\"checkbox\" ><label for=\"sk-estimator-id-4\" class=\"sk-toggleable__label sk-toggleable__label-arrow\">VotingClassifier</label><div class=\"sk-toggleable__content\"><pre>VotingClassifier(estimators=[(&#x27;logistic_regression&#x27;,\n",
       "                              LogisticRegression(C=1, max_iter=1000,\n",
       "                                                 random_state=42,\n",
       "                                                 solver=&#x27;liblinear&#x27;))],\n",
       "                 voting=&#x27;soft&#x27;)</pre></div></div></div><div class=\"sk-parallel\"><div class=\"sk-parallel-item\"><div class=\"sk-item\"><div class=\"sk-label-container\"><div class=\"sk-label sk-toggleable\"><label>logistic_regression</label></div></div><div class=\"sk-serial\"><div class=\"sk-item\"><div class=\"sk-estimator sk-toggleable\"><input class=\"sk-toggleable__control sk-hidden--visually\" id=\"sk-estimator-id-5\" type=\"checkbox\" ><label for=\"sk-estimator-id-5\" class=\"sk-toggleable__label sk-toggleable__label-arrow\">LogisticRegression</label><div class=\"sk-toggleable__content\"><pre>LogisticRegression(C=1, max_iter=1000, random_state=42, solver=&#x27;liblinear&#x27;)</pre></div></div></div></div></div></div></div></div></div></div>"
      ],
      "text/plain": [
       "VotingClassifier(estimators=[('logistic_regression',\n",
       "                              LogisticRegression(C=1, max_iter=1000,\n",
       "                                                 random_state=42,\n",
       "                                                 solver='liblinear'))],\n",
       "                 voting='soft')"
      ]
     },
     "execution_count": 25,
     "metadata": {},
     "output_type": "execute_result"
    }
   ],
   "source": [
    "# Create a voting classifier\n",
    "voting_clf = VotingClassifier(\n",
    "    estimators=[\n",
    "        ('logistic_regression', best_lr_model)\n",
    "    ],\n",
    "    voting='soft'  \n",
    ")\n",
    "\n",
    "# Train the voting classifier\n",
    "voting_clf.fit(x_train, y_train)"
   ]
  },
  {
   "cell_type": "code",
   "execution_count": 26,
   "id": "5b75e412",
   "metadata": {},
   "outputs": [
    {
     "name": "stdout",
     "output_type": "stream",
     "text": [
      "Accuracy: 0.9352\n",
      "Precision: 0.8795\n",
      "ROC AUC Score: 0.9408\n"
     ]
    }
   ],
   "source": [
    "# Predict using the ensemble model on train dataset\n",
    "x_pred = voting_clf.predict(x_train)\n",
    "\n",
    "# Evaluate performance\n",
    "accuracy = accuracy_score(x_pred, y_train)\n",
    "precision = precision_score(x_pred, y_train)\n",
    "roc_auc = roc_auc_score(x_pred, y_train)\n",
    "\n",
    "print(f\"Accuracy: {accuracy:.4f}\")\n",
    "print(f\"Precision: {precision:.4f}\")\n",
    "print(f\"ROC AUC Score: {roc_auc:.4f}\")"
   ]
  },
  {
   "cell_type": "code",
   "execution_count": 28,
   "id": "634f77b1",
   "metadata": {},
   "outputs": [
    {
     "name": "stdout",
     "output_type": "stream",
     "text": [
      "Accuracy: 0.9086\n",
      "Precision: 0.8431\n",
      "ROC AUC Score: 0.9152\n"
     ]
    }
   ],
   "source": [
    "# Predict using the ensemble model on test dataset\n",
    "y_pred = voting_clf.predict(x_test)\n",
    "\n",
    "# Evaluate performance\n",
    "accuracy = accuracy_score(y_pred, y_test)\n",
    "precision = precision_score(y_pred, y_test)\n",
    "roc_auc = roc_auc_score(y_pred, y_test)\n",
    "\n",
    "print(f\"Accuracy: {accuracy:.4f}\")\n",
    "print(f\"Precision: {precision:.4f}\")\n",
    "print(f\"ROC AUC Score: {roc_auc:.4f}\")"
   ]
  },
  {
   "cell_type": "code",
   "execution_count": 29,
   "id": "65194595",
   "metadata": {},
   "outputs": [
    {
     "data": {
      "image/png": "[encoded data removed]",
      "text/plain": [
       "<Figure size 400x400 with 2 Axes>"
      ]
     },
     "metadata": {},
     "output_type": "display_data"
    }
   ],
   "source": [
    "LABELS = ['Normal', 'Fraud'] \n",
    "conf_matrix = confusion_matrix(y_test, y_pred) \n",
    "plt.figure(figsize =(4, 4)) \n",
    "sns.heatmap(conf_matrix, xticklabels = LABELS, yticklabels = LABELS, annot = True); \n",
    "plt.title(\"Confusion matrix\") \n",
    "plt.ylabel('Original') \n",
    "plt.xlabel('Prediction') \n",
    "plt.show() "
   ]
  },
  {
   "cell_type": "code",
   "execution_count": null,
   "id": "ddf54ad2",
   "metadata": {},
   "outputs": [],
   "source": []
  }
 ],
 "metadata": {
  "kernelspec": {
   "display_name": "Python 3 (ipykernel)",
   "language": "python",
   "name": "python3"
  },
  "language_info": {
   "codemirror_mode": {
    "name": "ipython",
    "version": 3
   },
   "file_extension": ".py",
   "mimetype": "text/x-python",
   "name": "python",
   "nbconvert_exporter": "python",
   "pygments_lexer": "ipython3",
   "version": "3.11.4"
  }
 },
 "nbformat": 4,
 "nbformat_minor": 5
}
